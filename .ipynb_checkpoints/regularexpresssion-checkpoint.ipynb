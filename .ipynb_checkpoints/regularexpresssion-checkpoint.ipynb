{
 "cells": [
  {
   "cell_type": "code",
   "execution_count": 3,
   "metadata": {},
   "outputs": [
    {
     "name": "stdout",
     "output_type": "stream",
     "text": [
      "<_sre.SRE_Match object at 0x00000000067D74A8>\n"
     ]
    }
   ],
   "source": [
    "import re\n",
    "result =\"http://www.diveintopython.net/regular_expressions/street_addresses.html\""
   ]
  },
  {
   "cell_type": "code",
   "execution_count": 13,
   "metadata": {},
   "outputs": [
    {
     "data": {
      "text/plain": [
       "'rats'"
      ]
     },
     "execution_count": 13,
     "metadata": {},
     "output_type": "execute_result"
    }
   ],
   "source": [
    "import re \n",
    "def pluralize(noun):          \n",
    "    if re.search('[sxz]$', noun):     \n",
    "        return re.sub('$', 'es', noun)\n",
    "    elif re.search('[^aeioudgkprt]h$', noun):\n",
    "        return re.sub('$', 'es', noun)       \n",
    "    elif re.search('[^aeiou]y$', noun):      \n",
    "        return re.sub('y$', 'ies', noun)     \n",
    "    else:\n",
    "        return noun + 's'\n",
    "pluralize(\"rat\")"
   ]
  },
  {
   "cell_type": "code",
   "execution_count": 50,
   "metadata": {},
   "outputs": [
    {
     "data": {
      "text/plain": [
       "'100 NORTH BROAD RD.'"
      ]
     },
     "execution_count": 50,
     "metadata": {},
     "output_type": "execute_result"
    }
   ],
   "source": [
    "s = '100 NORTH MAIN ROAD'\n",
    "s.replace('ROAD', 'RD.')               \n",
    "\n",
    "s = '100 NORTH BROAD ROAD'\n",
    "s.replace('ROAD', 'RD.')               \n",
    "\n",
    "s[:-4] + s[-4:].replace('ROAD', 'RD.')\n",
    "import re                              \n",
    "re.sub('ROAD$', 'RD.', s)              \n"
   ]
  },
  {
   "cell_type": "code",
   "execution_count": 49,
   "metadata": {},
   "outputs": [
    {
     "data": {
      "text/plain": [
       "'100 NORTH BROAD RD.'"
      ]
     },
     "execution_count": 49,
     "metadata": {},
     "output_type": "execute_result"
    }
   ],
   "source": [
    "s = '100 NORTH BROAD ROAD'\n",
    "#s.replace('ROAD', 'RD.')               \n",
    "\n",
    "s[:-4]+s[-4:].replace('ROAD', 'RD.')"
   ]
  },
  {
   "cell_type": "code",
   "execution_count": 51,
   "metadata": {},
   "outputs": [
    {
     "data": {
      "text/plain": [
       "'100 BROAD RD. APT. 3'"
      ]
     },
     "execution_count": 51,
     "metadata": {},
     "output_type": "execute_result"
    }
   ],
   "source": [
    "import re\n",
    "s = '100 BROAD'\n",
    "re.sub('ROAD$', 'RD.', s)\n",
    "\n",
    "re.sub('\\\\bROAD$', 'RD.', s)  \n",
    "\n",
    "re.sub(r'\\bROAD$', 'RD.', s)  \n",
    "\n",
    "s = '100 BROAD ROAD APT. 3'\n",
    "re.sub(r'\\bROAD$', 'RD.', s)  \n",
    "\n",
    "re.sub(r'\\bROAD\\b', 'RD.', s) \n"
   ]
  },
  {
   "cell_type": "code",
   "execution_count": 52,
   "metadata": {},
   "outputs": [
    {
     "data": {
      "text/plain": [
       "<_sre.SRE_Match at 0x7521030>"
      ]
     },
     "execution_count": 52,
     "metadata": {},
     "output_type": "execute_result"
    }
   ],
   "source": [
    "import re\n",
    "pattern = '^M?M?M?$'       \n",
    "re.search(pattern, 'M')    \n",
    "re.search(pattern, 'MM')   \n",
    "\n",
    "re.search(pattern, 'MMM')  \n",
    "re.search(pattern, 'MMMM') \n",
    "re.search(pattern, '')     \n"
   ]
  },
  {
   "cell_type": "code",
   "execution_count": 56,
   "metadata": {},
   "outputs": [
    {
     "data": {
      "text/plain": [
       "('800', '555', '1212', '')"
      ]
     },
     "execution_count": 56,
     "metadata": {},
     "output_type": "execute_result"
    }
   ],
   "source": [
    "import re \n",
    "phonePattern = re.compile(r'(\\d{3})\\D*(\\d{3})\\D*(\\d{4})\\D*(\\d*)$') \n",
    "#phonePattern.search('work 1-(800) 555.1212 #1234').groups()        \n",
    "\n",
    "phonePattern.search('800-555-1212').groups()                              \n",
    "#phonePattern.search('80055512121234')                              "
   ]
  },
  {
   "cell_type": "code",
   "execution_count": 57,
   "metadata": {},
   "outputs": [
    {
     "name": "stdout",
     "output_type": "stream",
     "text": [
      "<_sre.SRE_Match object at 0x0000000007521238>\n",
      "None\n"
     ]
    }
   ],
   "source": [
    "import re\n",
    "x = re.search(\"cat\",\"A cat and a rat can't be friends.\")\n",
    "print x\n",
    "x = re.search(\"cow\",\"A cat and a rat can't be friends.\")\n",
    "print x\n"
   ]
  },
  {
   "cell_type": "code",
   "execution_count": 59,
   "metadata": {},
   "outputs": [
    {
     "name": "stdout",
     "output_type": "stream",
     "text": [
      "Some kind of cat has been found :-)\n",
      "No cow around.\n"
     ]
    }
   ],
   "source": [
    "import re \n",
    "if re.search(\"cat\",\"A cat and a rat can't be friends.\"):\n",
    "    print \"Some kind of cat has been found :-)\"\n",
    "else:\n",
    "    print \"No cat has been found \"\n",
    "        \n",
    "if re.search(\"cow\",\"A cat and a rat can't be friends.\"):\n",
    "    print \"Cats and Rats and a cow.\"\n",
    "else:\n",
    "    print \"No cow around.\"\n"
   ]
  },
  {
   "cell_type": "code",
   "execution_count": 60,
   "metadata": {},
   "outputs": [
    {
     "name": "stdout",
     "output_type": "stream",
     "text": [
      "Allison Neu 555-8396\n",
      "C. Montgomery Burns \n",
      "Lionel Putz 555-5299\n",
      "Homer Jay Simpson 555-7334\n"
     ]
    }
   ],
   "source": [
    "import re\n",
    "\n",
    "l = [\"555-8396 Neu, Allison\", \n",
    "     \"Burns, C. Montgomery\", \n",
    "     \"555-5299 Putz, Lionel\",\n",
    "     \"555-7334 Simpson, Homer Jay\"]\n",
    "\n",
    "for i in l:\n",
    "    res = re.search(r\"([0-9-]*)\\s*([A-Za-z]+),\\s+(.*)\", i)\n",
    "    print res.group(3) + \" \" + res.group(2) + \" \" + res.group(1)"
   ]
  },
  {
   "cell_type": "code",
   "execution_count": null,
   "metadata": {},
   "outputs": [],
   "source": []
  }
 ],
 "metadata": {
  "kernelspec": {
   "display_name": "Python 2",
   "language": "python",
   "name": "python2"
  },
  "language_info": {
   "codemirror_mode": {
    "name": "ipython",
    "version": 2
   },
   "file_extension": ".py",
   "mimetype": "text/x-python",
   "name": "python",
   "nbconvert_exporter": "python",
   "pygments_lexer": "ipython2",
   "version": "2.7.14"
  }
 },
 "nbformat": 4,
 "nbformat_minor": 2
}
