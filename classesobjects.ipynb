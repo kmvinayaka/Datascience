{
 "cells": [
  {
   "cell_type": "code",
   "execution_count": 1,
   "metadata": {},
   "outputs": [],
   "source": [
    "class Student: \n",
    "    pass"
   ]
  },
  {
   "cell_type": "code",
   "execution_count": 2,
   "metadata": {},
   "outputs": [
    {
     "name": "stdout",
     "output_type": "stream",
     "text": [
      "Jack\n"
     ]
    }
   ],
   "source": [
    "Student.name = \"Jack\"\n",
    "Student.id = 20001\n",
    "print Student.name"
   ]
  },
  {
   "cell_type": "code",
   "execution_count": 2,
   "metadata": {
    "collapsed": true
   },
   "outputs": [],
   "source": [
    "class Student(object):\n",
    "        '''Classes can (and should) have docstrings too, just like modules and functions'''\n",
    "\tdef __init__(self, name, id = 20001):\n",
    "\t\tself.name = name\n",
    "\t\tself.id = id\n",
    "\n"
   ]
  },
  {
   "cell_type": "code",
   "execution_count": 3,
   "metadata": {
    "collapsed": true
   },
   "outputs": [],
   "source": [
    "studentA = Student(\"Jack\")\n",
    "studentB = Student(\"Judy\", 10005)"
   ]
  },
  {
   "cell_type": "code",
   "execution_count": 7,
   "metadata": {},
   "outputs": [
    {
     "name": "stdout",
     "output_type": "stream",
     "text": [
      "Jack\n",
      "20001\n",
      "10005\n"
     ]
    }
   ],
   "source": [
    "print studentA.name\n",
    "print studentA.id\n",
    "print studentB.id\n"
   ]
  },
  {
   "cell_type": "code",
   "execution_count": 6,
   "metadata": {},
   "outputs": [
    {
     "name": "stdout",
     "output_type": "stream",
     "text": [
      "B: data = \"BigData\"\n",
      "B: data = \"123\"\n"
     ]
    }
   ],
   "source": [
    "class MyClassA:\n",
    "\tdef setData(self,d):\n",
    "\t\tself.data = d\n",
    "\tdef display(self):\n",
    "\t\tprint(self.data)\n",
    "class MyClassB(MyClassA):\n",
    "\tdef display(self):\n",
    "\t\tprint('B: data = \"%s\"' %self.data)\n",
    "class MyClassC(MyClassB):\n",
    "\tdef __init__(self, d):\n",
    "\t\tself.data = d\n",
    "\tdef __add__(self,d2):\n",
    "\t\treturn MyClassC(self.data + d2)\n",
    "\tdef __str__(self):\n",
    "\t\treturn '[MyClassC: %s]' % self.data\n",
    "\tdef mul(self, d2):\n",
    "\t\tself.data *= d2\n",
    "\n",
    "b = MyClassB()\n",
    "b.setData(\"BigData\")\n",
    "b.display()\n",
    "c = MyClassC(\"123\")\n",
    "c.display()\n",
    " "
   ]
  },
  {
   "cell_type": "code",
   "execution_count": 4,
   "metadata": {},
   "outputs": [
    {
     "ename": "NameError",
     "evalue": "name 'a' is not defined",
     "output_type": "error",
     "traceback": [
      "\u001b[1;31m---------------------------------------------------------------------------\u001b[0m",
      "\u001b[1;31mNameError\u001b[0m                                 Traceback (most recent call last)",
      "\u001b[1;32m<ipython-input-4-e663b36afdd5>\u001b[0m in \u001b[0;36m<module>\u001b[1;34m()\u001b[0m\n\u001b[1;32m----> 1\u001b[1;33m \u001b[0ma\u001b[0m\u001b[1;33m.\u001b[0m\u001b[0msetData\u001b[0m\u001b[1;33m(\u001b[0m\u001b[1;34m\"Python\"\u001b[0m\u001b[1;33m)\u001b[0m\u001b[1;33m\u001b[0m\u001b[0m\n\u001b[0m\u001b[0;32m      2\u001b[0m \u001b[0ma2\u001b[0m\u001b[1;33m.\u001b[0m\u001b[0msetData\u001b[0m\u001b[1;33m(\u001b[0m\u001b[1;34m\"PyQt\"\u001b[0m\u001b[1;33m)\u001b[0m\u001b[1;33m\u001b[0m\u001b[0m\n\u001b[0;32m      3\u001b[0m \u001b[0ma\u001b[0m\u001b[1;33m.\u001b[0m\u001b[0mdisplay\u001b[0m\u001b[1;33m(\u001b[0m\u001b[1;33m)\u001b[0m\u001b[1;33m\u001b[0m\u001b[0m\n\u001b[0;32m      4\u001b[0m \u001b[0ma2\u001b[0m\u001b[1;33m.\u001b[0m\u001b[0mdisplay\u001b[0m\u001b[1;33m(\u001b[0m\u001b[1;33m)\u001b[0m\u001b[1;33m\u001b[0m\u001b[0m\n\u001b[0;32m      5\u001b[0m \u001b[0mb\u001b[0m \u001b[1;33m=\u001b[0m \u001b[0mMyClassB\u001b[0m\u001b[1;33m(\u001b[0m\u001b[1;33m)\u001b[0m\u001b[1;33m\u001b[0m\u001b[0m\n",
      "\u001b[1;31mNameError\u001b[0m: name 'a' is not defined"
     ]
    }
   ],
   "source": [
    "a.setData(\"Python\")\n",
    "a2.setData(\"PyQt\")\n",
    "a.display()\n",
    "a2.display()\n",
    "b = MyClassB()\n",
    "b.setData(\"BigData\")\n",
    "b.display()\n",
    "c = MyClassC(\"123\")\n",
    "c.display()\n",
    "\n",
    " "
   ]
  },
  {
   "cell_type": "code",
   "execution_count": 1,
   "metadata": {},
   "outputs": [
    {
     "ename": "NameError",
     "evalue": "name 'MyClassB' is not defined",
     "output_type": "error",
     "traceback": [
      "\u001b[1;31m---------------------------------------------------------------------------\u001b[0m",
      "\u001b[1;31mNameError\u001b[0m                                 Traceback (most recent call last)",
      "\u001b[1;32m<ipython-input-1-9694ed1c0b14>\u001b[0m in \u001b[0;36m<module>\u001b[1;34m()\u001b[0m\n\u001b[1;32m----> 1\u001b[1;33m \u001b[1;32mclass\u001b[0m \u001b[0mMyClassC\u001b[0m\u001b[1;33m(\u001b[0m\u001b[0mMyClassB\u001b[0m\u001b[1;33m)\u001b[0m\u001b[1;33m:\u001b[0m\u001b[1;33m\u001b[0m\u001b[0m\n\u001b[0m\u001b[0;32m      2\u001b[0m         \u001b[1;32mdef\u001b[0m \u001b[0m__init__\u001b[0m\u001b[1;33m(\u001b[0m\u001b[0mself\u001b[0m\u001b[1;33m,\u001b[0m \u001b[0md\u001b[0m\u001b[1;33m)\u001b[0m\u001b[1;33m:\u001b[0m\u001b[1;33m\u001b[0m\u001b[0m\n\u001b[0;32m      3\u001b[0m                 \u001b[0mself\u001b[0m\u001b[1;33m.\u001b[0m\u001b[0mdata\u001b[0m \u001b[1;33m=\u001b[0m \u001b[0md\u001b[0m\u001b[1;33m\u001b[0m\u001b[0m\n\u001b[0;32m      4\u001b[0m         \u001b[1;32mdef\u001b[0m \u001b[0m__add__\u001b[0m\u001b[1;33m(\u001b[0m\u001b[0mself\u001b[0m\u001b[1;33m,\u001b[0m\u001b[0md2\u001b[0m\u001b[1;33m)\u001b[0m\u001b[1;33m:\u001b[0m\u001b[1;33m\u001b[0m\u001b[0m\n\u001b[0;32m      5\u001b[0m                 \u001b[1;32mreturn\u001b[0m \u001b[0mMyClassC\u001b[0m\u001b[1;33m(\u001b[0m\u001b[0mself\u001b[0m\u001b[1;33m.\u001b[0m\u001b[0mdata\u001b[0m \u001b[1;33m+\u001b[0m \u001b[0md2\u001b[0m\u001b[1;33m)\u001b[0m\u001b[1;33m\u001b[0m\u001b[0m\n",
      "\u001b[1;31mNameError\u001b[0m: name 'MyClassB' is not defined"
     ]
    }
   ],
   "source": []
  },
  {
   "cell_type": "code",
   "execution_count": null,
   "metadata": {
    "collapsed": true
   },
   "outputs": [],
   "source": [
    "\n",
    "\n",
    "\n"
   ]
  },
  {
   "cell_type": "code",
   "execution_count": 17,
   "metadata": {},
   "outputs": [
    {
     "name": "stdout",
     "output_type": "stream",
     "text": [
      "area with 100 20 2000\n",
      "area with height 30 3000\n"
     ]
    }
   ],
   "source": [
    "class Rectangle(object):\n",
    "\tdef __init__(self, w, h):\n",
    "\t\tself.width = w\n",
    "\t\tself.height = h\n",
    "\tdef area(self):\n",
    "\t\treturn self.width * self.height\n",
    "\n",
    "\n",
    "rect = Rectangle(100,20)\n",
    "print \"area with 100 20\",rect.area()\n",
    "rect.height = 30\n",
    "print 'area with height 30',rect.area()\n"
   ]
  },
  {
   "cell_type": "code",
   "execution_count": 14,
   "metadata": {},
   "outputs": [
    {
     "name": "stdout",
     "output_type": "stream",
     "text": [
      "90\n"
     ]
    }
   ],
   "source": [
    "class Rectangle(object):\n",
    "\tdef __init__(self, w, h):\n",
    "\t\tself.width = w\n",
    "\t\tself.height = h\n",
    "\tdef getWidth(self):\n",
    "\t\treturn self.width\n",
    "\tdef getHeight(self):\n",
    "\t\treturn self.height\n",
    "\tdef setWidth(self, w):\n",
    "\t\tself.width = w\n",
    "\tdef setHeight(self):\n",
    "\t\tself.height = h\n",
    "\tdef area(self):\n",
    "\t\treturn self.getWidth() * self.getHeight()\n",
    "r=Rectangle(2,2)\n",
    "r.setWidth(45)\n",
    "print r.area()\n"
   ]
  },
  {
   "cell_type": "code",
   "execution_count": 15,
   "metadata": {},
   "outputs": [
    {
     "name": "stdout",
     "output_type": "stream",
     "text": [
      "[data: secret] [data: secret]\n",
      "[data: A]\n",
      "[data: B]\n"
     ]
    }
   ],
   "source": [
    "class MyClass:\n",
    "\tdef __init__(self, d):\n",
    "\t\tself.data = d\n",
    "\tdef __str__(self):\n",
    "\t\treturn '[data: %s]' %self.data\n",
    "\t\n",
    "x = MyClass('secret')\n",
    "print(x), x\n",
    "myObjects = [MyClass('A'), MyClass('B')]\n",
    "for obj in myObjects:\n",
    "\tprint(obj)\n",
    "\n"
   ]
  },
  {
   "cell_type": "code",
   "execution_count": 22,
   "metadata": {},
   "outputs": [
    {
     "ename": "NameError",
     "evalue": "name 'BaseClassName' is not defined",
     "output_type": "error",
     "traceback": [
      "\u001b[1;31m---------------------------------------------------------------------------\u001b[0m",
      "\u001b[1;31mNameError\u001b[0m                                 Traceback (most recent call last)",
      "\u001b[1;32m<ipython-input-22-7aba733f5e79>\u001b[0m in \u001b[0;36m<module>\u001b[1;34m()\u001b[0m\n\u001b[1;32m----> 1\u001b[1;33m \u001b[1;32mclass\u001b[0m \u001b[0mDerivedClassName\u001b[0m\u001b[1;33m(\u001b[0m\u001b[0mBaseClassName\u001b[0m\u001b[1;33m)\u001b[0m\u001b[1;33m:\u001b[0m\u001b[1;33m\u001b[0m\u001b[0m\n\u001b[0m\u001b[0;32m      2\u001b[0m     \u001b[1;32mpass\u001b[0m\u001b[1;33m\u001b[0m\u001b[0m\n",
      "\u001b[1;31mNameError\u001b[0m: name 'BaseClassName' is not defined"
     ]
    }
   ],
   "source": [
    "class DerivedClassName(BaseClassName):\n",
    "    pass"
   ]
  },
  {
   "cell_type": "code",
   "execution_count": 16,
   "metadata": {},
   "outputs": [
    {
     "name": "stdout",
     "output_type": "stream",
     "text": [
      "Mary Simpson\n",
      "H Simpson, 1007\n",
      "<__main__.Person instance at 0x000000000686B888>\n"
     ]
    }
   ],
   "source": [
    "class Person:\n",
    "#inheritance\n",
    "    def __init__(self, first, last):\n",
    "        self.firstname = first\n",
    "        self.lastname = last\n",
    "\n",
    "    def Name(self):\n",
    "        return self.firstname + \" \" + self.lastname\n",
    "\n",
    "class Employee(Person):\n",
    "\n",
    "    def __init__(self, first, last, staffnum):\n",
    "        Person.__init__(self,first, last)\n",
    "        self.staffnumber = staffnum\n",
    "\n",
    "    def GetEmployee(self):\n",
    "        return self.Name() + \", \" +  self.staffnumber\n",
    "\n",
    "x = Person(\"Mary\", \"Simpson\")\n",
    "y = Employee(\"H\", \"Simpson\", \"1007\")\n",
    "\n",
    "print(x.Name())\n",
    "print(y.GetEmployee())\n",
    "print x"
   ]
  },
  {
   "cell_type": "code",
   "execution_count": 4,
   "metadata": {},
   "outputs": [
    {
     "name": "stdout",
     "output_type": "stream",
     "text": [
      "Enter side 1 : 6\n",
      "Enter side 2 : 7\n",
      "Enter side 3 : 8\n",
      "('Side', 1, 'is', 6.0)\n",
      "('Side', 2, 'is', 7.0)\n",
      "('Side', 3, 'is', 8.0)\n",
      "The area of the triangle is 20.33\n"
     ]
    }
   ],
   "source": [
    "class Polygon:\n",
    "    def __init__(self, no_of_sides):\n",
    "        self.n = no_of_sides\n",
    "        self.sides = [0 for i in range(no_of_sides)]\n",
    "\n",
    "    def inputSides(self):\n",
    "        self.sides = [float(input(\"Enter side \"+str(i+1)+\" : \")) for i in range(self.n)]\n",
    "        print self.sides\n",
    "\n",
    "    def dispSides(self):\n",
    "        for i in range(self.n):\n",
    "            print(\"Side\",i+1,\"is\",self.sides[i])\n",
    "            \n",
    "class Triangle(Polygon):\n",
    "    def __init__(self):\n",
    "        Polygon.__init__(self,3)\n",
    "\n",
    "    def findArea(self):\n",
    "        a, b, c = self.sides\n",
    "        # calculate the semi-perimeter\n",
    "        s = (a + b + c) / 2\n",
    "        area = (s*(s-a)*(s-b)*(s-c)) ** 0.5\n",
    "        print('The area of the triangle is %0.2f' %area)\n",
    "        \n",
    "t = Triangle()\n",
    "t.inputSides()\n",
    "t.dispSides()\n",
    "t.findArea()"
   ]
  },
  {
   "cell_type": "code",
   "execution_count": 18,
   "metadata": {},
   "outputs": [
    {
     "name": "stdout",
     "output_type": "stream",
     "text": [
      "4\n",
      "4\n",
      "10\n",
      "10\n"
     ]
    }
   ],
   "source": [
    "class Car(object):\n",
    "\n",
    "    wheels = 4\n",
    "\n",
    "    def __init__(self, make, model):\n",
    "        self.make = make\n",
    "        self.model = model\n",
    "\n",
    "mustang = Car('Ford', 'Mustang')\n",
    "india = Car('Ford', 'Fiesta')\n",
    "print mustang.wheels\n",
    "print india.wheels\n",
    "Car.wheels=10\n",
    "print india.wheels\n",
    "print mustang.wheels\n"
   ]
  },
  {
   "cell_type": "code",
   "execution_count": 7,
   "metadata": {},
   "outputs": [
    {
     "name": "stdout",
     "output_type": "stream",
     "text": [
      "Jane\n",
      "jane.doe@example.com\n",
      "6\n"
     ]
    }
   ],
   "source": [
    "import datetime # we will use this for date objects\n",
    "\n",
    "class Person:\n",
    "\n",
    "    def __init__(self, name, surname, birthdate, address, telephone, email):\n",
    "        self.name = name\n",
    "        self.surname = surname\n",
    "        self.birthdate = birthdate\n",
    "\n",
    "        self.address = address\n",
    "        self.telephone = telephone\n",
    "        self.email = email\n",
    "\n",
    "    def age(self):\n",
    "        today = datetime.date.today()\n",
    "        age = today.year - self.birthdate.year\n",
    "\n",
    "        if today < datetime.date(today.year, self.birthdate.month, self.birthdate.day):\n",
    "            age -= 1\n",
    "\n",
    "        return age\n",
    "\n",
    "person = Person(\n",
    "    \"Jane\",\n",
    "    \"Doe\",\n",
    "    datetime.date(2011,1,12),\n",
    "    \"No. 12 Short Street, Greenville\",\n",
    "    \"555 456 0987\",\n",
    "    \"jane.doe@example.com\"\n",
    ")\n",
    "\n",
    "print(person.name)\n",
    "print(person.email)\n",
    "print(person.age())"
   ]
  },
  {
   "cell_type": "code",
   "execution_count": 9,
   "metadata": {},
   "outputs": [
    {
     "name": "stdout",
     "output_type": "stream",
     "text": [
      "Mr Vinayaka swamy\n",
      "None\n"
     ]
    }
   ],
   "source": [
    "class Person:\n",
    "\n",
    "    TITLES = ('Dr', 'Mr', 'Mrs', 'Ms')\n",
    "\n",
    "    def __init__(self, title, name, surname):\n",
    "        if title not in self.TITLES:\n",
    "            raise ValueError(\"%s is not a valid title.\" % title)\n",
    "\n",
    "        self.title = title\n",
    "        self.name = name\n",
    "        self.surname = surname\n",
    "    def det(self):\n",
    "        print self.title , self.name , self.surname\n",
    "        \n",
    "        #return self.title,self.name,self.surname\n",
    "p=Person(\"Mr\",\"Vinayaka\",\"swamy\")\n",
    "print p.det()\n"
   ]
  },
  {
   "cell_type": "code",
   "execution_count": 24,
   "metadata": {},
   "outputs": [
    {
     "name": "stdout",
     "output_type": "stream",
     "text": [
      "['cat']\n",
      "[]\n"
     ]
    }
   ],
   "source": [
    "class Person:\n",
    "\n",
    "    def __init__(self):\n",
    "        self.pets = []\n",
    "\n",
    "    def add_pet(self, pet):\n",
    "        self.pets.append(pet)\n",
    "\n",
    "jane = Person()\n",
    "bob = Person()\n",
    "\n",
    "jane.add_pet(\"cat\")\n",
    "print(jane.pets)\n",
    "print(bob.pets)"
   ]
  },
  {
   "cell_type": "code",
   "execution_count": 16,
   "metadata": {},
   "outputs": [
    {
     "name": "stdout",
     "output_type": "stream",
     "text": [
      "Name :  Zara , Salary:  2000\n",
      "Name :  Manni , Salary:  5000\n",
      "Total Employee 3\n",
      "Total Employee 3\n"
     ]
    }
   ],
   "source": [
    "class Employee:\n",
    "   'Common base class for all employees'\n",
    "   empCount = 0\n",
    "\n",
    "   def __init__(self, name, salary):\n",
    "      self.name = name\n",
    "      self.salary = salary\n",
    "      Employee.empCount += 1\n",
    "   \n",
    "   def displayCount(self):\n",
    "     print \"Total Employee %d\" % Employee.empCount\n",
    "\n",
    "   def displayEmployee(self):\n",
    "      print \"Name : \", self.name,  \", Salary: \", self.salary\n",
    "\n",
    "\"This would create first object of Employee class\"\n",
    "emp1 = Employee(\"Zara\", 2000)\n",
    "\"This would create second object of Employee class\"\n",
    "emp2 = Employee(\"Manni\", 5000)\n",
    "emp3 = Employee(\"M\", 500000)\n",
    "emp1.displayEmployee()\n",
    "emp2.displayEmployee()\n",
    "emp2.displayCount()\n",
    "print \"Total Employee %d\" % Employee.empCount\n"
   ]
  },
  {
   "cell_type": "code",
   "execution_count": 28,
   "metadata": {},
   "outputs": [
    {
     "name": "stdout",
     "output_type": "stream",
     "text": [
      "Employee.__doc__: Common base class for all employees\n",
      "Employee.__name__: Employee\n",
      "Employee.__module__: __main__\n",
      "Employee.__bases__: ()\n",
      "Employee.__dict__: {'__module__': '__main__', 'displayCount': <function displayCount at 0x0000000006864748>, 'empCount': 0, 'displayEmployee': <function displayEmployee at 0x0000000006864AC8>, '__doc__': 'Common base class for all employees', '__init__': <function __init__ at 0x00000000068643C8>}\n"
     ]
    }
   ],
   "source": [
    "class Employee:\n",
    "   'Common base class for all employees'\n",
    "   empCount = 0\n",
    "\n",
    "   def __init__(self, name, salary):\n",
    "      self.name = name\n",
    "      self.salary = salary\n",
    "      Employee.empCount += 1\n",
    "   \n",
    "   def displayCount(self):\n",
    "     print \"Total Employee %d\" % Employee.empCount\n",
    "\n",
    "   def displayEmployee(self):\n",
    "      print \"Name : \", self.name,  \", Salary: \", self.salary\n",
    "\n",
    "print \"Employee.__doc__:\", Employee.__doc__\n",
    "print \"Employee.__name__:\", Employee.__name__\n",
    "print \"Employee.__module__:\", Employee.__module__\n",
    "print \"Employee.__bases__:\", Employee.__bases__\n",
    "print \"Employee.__dict__:\", Employee.__dict__"
   ]
  },
  {
   "cell_type": "code",
   "execution_count": 29,
   "metadata": {},
   "outputs": [
    {
     "name": "stdout",
     "output_type": "stream",
     "text": [
      "Calling child constructor\n",
      "Calling child method\n",
      "Calling parent method\n",
      "Parent attribute : 200\n"
     ]
    }
   ],
   "source": [
    "class Parent:        # define parent class\n",
    "   parentAttr = 100\n",
    "   def __init__(self):\n",
    "      print \"Calling parent constructor\"\n",
    "\n",
    "   def parentMethod(self):\n",
    "      print 'Calling parent method'\n",
    "\n",
    "   def setAttr(self, attr):\n",
    "      Parent.parentAttr = attr\n",
    "\n",
    "   def getAttr(self):\n",
    "      print \"Parent attribute :\", Parent.parentAttr\n",
    "\n",
    "class Child(Parent): # define child class\n",
    "   def __init__(self):\n",
    "      print \"Calling child constructor\"\n",
    "\n",
    "   def childMethod(self):\n",
    "      print 'Calling child method'\n",
    "\n",
    "c = Child()          # instance of child\n",
    "c.childMethod()      # child calls its method\n",
    "c.parentMethod()     # calls parent's method\n",
    "c.setAttr(200)       # again call parent's method\n",
    "c.getAttr()          # again call parent's method"
   ]
  },
  {
   "cell_type": "code",
   "execution_count": 30,
   "metadata": {},
   "outputs": [
    {
     "name": "stdout",
     "output_type": "stream",
     "text": [
      "Calling child method\n"
     ]
    }
   ],
   "source": [
    "\n",
    "class Parent:        # define parent class\n",
    "   def myMethod(self):\n",
    "      print 'Calling parent method'\n",
    "\n",
    "class Child(Parent): # define child class\n",
    "   def myMethod(self):\n",
    "      print 'Calling child method'\n",
    "\n",
    "c = Child()          # instance of child\n",
    "c.myMethod()         # child calls overridden method"
   ]
  },
  {
   "cell_type": "code",
   "execution_count": 31,
   "metadata": {},
   "outputs": [
    {
     "name": "stdout",
     "output_type": "stream",
     "text": [
      "Vector (7, 8)\n"
     ]
    }
   ],
   "source": [
    "class Vector:\n",
    "   def __init__(self, a, b):\n",
    "      self.a = a\n",
    "      self.b = b\n",
    "\n",
    "   def __str__(self):\n",
    "      return 'Vector (%d, %d)' % (self.a, self.b)\n",
    "   \n",
    "   def __add__(self,other):\n",
    "      return Vector(self.a + other.a, self.b + other.b)\n",
    "\n",
    "v1 = Vector(2,10)\n",
    "v2 = Vector(5,-2)\n",
    "print v1 + v2"
   ]
  },
  {
   "cell_type": "code",
   "execution_count": 33,
   "metadata": {},
   "outputs": [
    {
     "name": "stdout",
     "output_type": "stream",
     "text": [
      "1\n",
      "2\n"
     ]
    }
   ],
   "source": [
    "#!/usr/bin/python\n",
    "\n",
    "class JustCounter:\n",
    "   __secretCount = 0\n",
    "  \n",
    "   def count(self):\n",
    "      self.__secretCount += 1\n",
    "      print self.__secretCount\n",
    "\n",
    "counter = JustCounter()\n",
    "counter.count()\n",
    "counter.count()\n"
   ]
  },
  {
   "cell_type": "code",
   "execution_count": 34,
   "metadata": {},
   "outputs": [
    {
     "name": "stdout",
     "output_type": "stream",
     "text": [
      "Hello, my name is James\n",
      "Hello, my name is David\n"
     ]
    }
   ],
   "source": [
    "class User:\n",
    "    name = \"\"\n",
    " \n",
    "    def __init__(self, name):\n",
    "        self.name = name\n",
    " \n",
    "    def sayHello(self):\n",
    "        print \"Hello, my name is \" + self.name\n",
    " \n",
    "# create virtual objects\n",
    "james = User(\"James\")\n",
    "david = User(\"David\")\n",
    "eric = User(\"Eric\")\n",
    " \n",
    "# call methods owned by virtual objects\n",
    "james.sayHello()\n",
    "david.sayHello()"
   ]
  },
  {
   "cell_type": "code",
   "execution_count": 35,
   "metadata": {},
   "outputs": [
    {
     "name": "stdout",
     "output_type": "stream",
     "text": [
      "Name  = Python Bean\n",
      "Beans = 83\n",
      "Water = 20\n",
      "\n",
      "Name  = Python Bean\n",
      "Beans = 84\n",
      "Water = 20\n"
     ]
    }
   ],
   "source": [
    "class CoffeeMachine:\n",
    "    name = \"\"\n",
    "    beans = 0\n",
    "    water = 0\n",
    " \n",
    "    def __init__(self, name, beans, water):\n",
    "        self.name = name\n",
    "        self.beans = beans\n",
    "        self.water = water\n",
    " \n",
    "    def addBean(self):\n",
    "        self.beans = self.beans + 1\n",
    " \n",
    "    def removeBean(self):\n",
    "        self.beans = self.beans - 1\n",
    " \n",
    "    def addWater(self):\n",
    "        self.water = self.water + 1\n",
    " \n",
    "    def removeWater(self):\n",
    "        self.water = self.water - 1\n",
    " \n",
    "    def printState(self):\n",
    "        print \"Name  = \" + self.name\n",
    "        print \"Beans = \" + str(self.beans)\n",
    "        print \"Water = \" + str(self.water)\n",
    " \n",
    "pythonBean = CoffeeMachine(\"Python Bean\", 83, 20)\n",
    "pythonBean.printState()\n",
    "print \"\"\n",
    "pythonBean.addBean()\n",
    "pythonBean.printState()"
   ]
  },
  {
   "cell_type": "code",
   "execution_count": 40,
   "metadata": {},
   "outputs": [
    {
     "name": "stdout",
     "output_type": "stream",
     "text": [
      "(Initialized SchoolMember: Mrs. Shrividya)\n",
      "(Initialized Teacher: Mrs. Shrividya)\n",
      "(Initialized SchoolMember: Swaroop)\n",
      "(Initialized Student: Swaroop)\n",
      "()\n",
      "('Name:', 'Mrs. Shrividya', '  ', 'Age:', 40)\n",
      "Salary: \"30000\"\n",
      "('Name:', 'Swaroop', '  ', 'Age:', 25)\n",
      "Marks: \"75\"\n"
     ]
    }
   ],
   "source": [
    "class SchoolMember:\n",
    "    '''Represents any school member.'''\n",
    "    def __init__(self, name, age):\n",
    "        self.name = name\n",
    "        self.age = age\n",
    "        print('(Initialized SchoolMember: {})'.format(self.name))\n",
    "\n",
    "    def tell(self):\n",
    "        '''Tell my details.'''\n",
    "        print ('Name:',self.name,\"  \", 'Age:',self.age)\n",
    "\n",
    "class Teacher(SchoolMember):\n",
    "    '''Represents a teacher.'''\n",
    "    def __init__(self, name, age, salary):\n",
    "        SchoolMember.__init__(self, name, age)\n",
    "        self.salary = salary\n",
    "        print('(Initialized Teacher: {})'.format(self.name))\n",
    "\n",
    "    def tell(self):\n",
    "        SchoolMember.tell(self)\n",
    "        print('Salary: \"{:d}\"'.format(self.salary))\n",
    "\n",
    "\n",
    "class Student(SchoolMember):\n",
    "    '''Represents a student.'''\n",
    "    def __init__(self, name, age, marks):\n",
    "        SchoolMember.__init__(self, name, age)\n",
    "        self.marks = marks\n",
    "        print('(Initialized Student: {})'.format(self.name))\n",
    "\n",
    "    def tell(self):\n",
    "        SchoolMember.tell(self)\n",
    "        print('Marks: \"{:d}\"'.format(self.marks))\n",
    "\n",
    "t = Teacher('Mrs. Shrividya', 40, 30000)\n",
    "s = Student('Swaroop', 25, 75)\n",
    "\n",
    "# prints a blank line\n",
    "print()\n",
    "\n",
    "members = [t, s]\n",
    "for member in members:\n",
    "    # Works for both Teachers and Students\n",
    "    member.tell()"
   ]
  },
  {
   "cell_type": "code",
   "execution_count": 11,
   "metadata": {},
   "outputs": [
    {
     "data": {
      "text/plain": [
       "(5.0, -2.2)"
      ]
     },
     "execution_count": 11,
     "metadata": {},
     "output_type": "execute_result"
    }
   ],
   "source": [
    "class Complex:\n",
    "    def __init__(self, realpart, imagpart):\n",
    "        self.r = realpart\n",
    "        self.i = imagpart\n",
    "x = Complex(3.0, -4.5)\n",
    "y = Complex(2.0,2.3)\n",
    "x.r+y.r, x.i+y.i\n"
   ]
  },
  {
   "cell_type": "code",
   "execution_count": 17,
   "metadata": {},
   "outputs": [
    {
     "data": {
      "text/plain": [
       "['roll over', 'play dead']"
      ]
     },
     "execution_count": 17,
     "metadata": {},
     "output_type": "execute_result"
    }
   ],
   "source": [
    "class Dog:\n",
    "\n",
    "    tricks = []             # mistaken use of a class variable\n",
    "\n",
    "    def __init__(self, name):\n",
    "        self.name = name\n",
    "\n",
    "    def add_trick(self, trick):\n",
    "        self.tricks.append(trick)\n",
    "\n",
    "d = Dog('Fido')\n",
    "e = Dog('Buddy')\n",
    "d.add_trick('roll over')\n",
    "e.add_trick('play dead')\n",
    "#d.tricks                # unexpectedly shared by all dogs\n",
    "e.tricks\n"
   ]
  },
  {
   "cell_type": "code",
   "execution_count": 13,
   "metadata": {},
   "outputs": [
    {
     "name": "stdout",
     "output_type": "stream",
     "text": [
      "Groarrr\n",
      "Woof woof!\n"
     ]
    }
   ],
   "source": [
    "class Bear(object): #polymorphism\n",
    "    def sound(self):\n",
    "        print \"Groarrr\"\n",
    " \n",
    "class Dog(object):\n",
    "    def sound(self):\n",
    "        print \"Woof woof!\"\n",
    " \n",
    "def makeSound(animalType):\n",
    "    animalType.sound()\n",
    " \n",
    " \n",
    "bearObj = Bear()\n",
    "dogObj = Dog()\n",
    " \n",
    "makeSound(bearObj)\n",
    "makeSound(dogObj)"
   ]
  },
  {
   "cell_type": "code",
   "execution_count": 14,
   "metadata": {},
   "outputs": [
    {
     "name": "stdout",
     "output_type": "stream",
     "text": [
      "Document1: Show pdf contents!\n",
      "Document2: Show pdf contents!\n",
      "Document3: Show word contents!\n"
     ]
    }
   ],
   "source": [
    "class Document:\n",
    "    def __init__(self, name):    \n",
    "        self.name = name\n",
    " \n",
    "    def show(self):             \n",
    "        raise NotImplementedError(\"Subclass must implement abstract method\")\n",
    " \n",
    "class Pdf(Document):\n",
    "    def show(self):\n",
    "        return 'Show pdf contents!'\n",
    " \n",
    "class Word(Document):\n",
    "    def show(self):\n",
    "        return 'Show word contents!'\n",
    " \n",
    "documents = [Pdf('Document1'),\n",
    "             Pdf('Document2'),\n",
    "             Word('Document3')]\n",
    " \n",
    "for document in documents:\n",
    "    print document.name + ': ' + document.show()"
   ]
  },
  {
   "cell_type": "code",
   "execution_count": 15,
   "metadata": {},
   "outputs": [
    {
     "name": "stdout",
     "output_type": "stream",
     "text": [
      "Bananatruck: Truck driving slowly because heavily loaded.\n",
      "Orangetruck: Truck driving slowly because heavily loaded.\n",
      "Z3: Sportscar driving!\n"
     ]
    }
   ],
   "source": [
    "class Car:\n",
    "    def __init__(self, name):    \n",
    "        self.name = name\n",
    " \n",
    "    def drive(self):             \n",
    "        raise NotImplementedError(\"Subclass must implement abstract method\")\n",
    " \n",
    "    def stop(self):             \n",
    "        raise NotImplementedError(\"Subclass must implement abstract method\")\n",
    " \n",
    "class Sportscar(Car):\n",
    "    def drive(self):\n",
    "        return 'Sportscar driving!'\n",
    " \n",
    "    def stop(self):\n",
    "        return 'Sportscar braking!'\n",
    " \n",
    "class Truck(Car):\n",
    "    def drive(self):\n",
    "        return 'Truck driving slowly because heavily loaded.'\n",
    " \n",
    "    def stop(self):\n",
    "        return 'Truck braking!'\n",
    " \n",
    " \n",
    "cars = [Truck('Bananatruck'),\n",
    "        Truck('Orangetruck'),\n",
    "        Sportscar('Z3')]\n",
    " \n",
    "for car in cars:\n",
    "    print car.name + ': ' + car.drive()"
   ]
  },
  {
   "cell_type": "code",
   "execution_count": 20,
   "metadata": {},
   "outputs": [
    {
     "data": {
      "text/plain": [
       "False"
      ]
     },
     "execution_count": 20,
     "metadata": {},
     "output_type": "execute_result"
    }
   ],
   "source": [
    "class Door:\n",
    "    def __init__(self):\n",
    "        self.status = \"closed\"\n",
    "\n",
    "    def open(self):\n",
    "        self.status = \"open\"\n",
    "\n",
    "    def close(self):\n",
    "        self.status = \"closed\"\n",
    "\n",
    "    def is_open(self):\n",
    "        return self.status == \"open\"\n",
    "\n",
    "\n",
    "class BooleanDoor:\n",
    "    def __init__(self):\n",
    "        self.status = True\n",
    "\n",
    "    def open(self):\n",
    "        self.status = True\n",
    "\n",
    "    def close(self):\n",
    "        self.status = False\n",
    "\n",
    "    def is_open(self):\n",
    "        return self.status\n",
    "    \n",
    "class Room:\n",
    "    def __init__(self, door):\n",
    "        self.door = door\n",
    "\n",
    "    def open(self):\n",
    "        self.door.open()\n",
    "\n",
    "    def close(self):\n",
    "        self.door.close()\n",
    "\n",
    "    def is_open(self):\n",
    "        return self.door.is_open()\n",
    "    \n",
    "    \n",
    "\n",
    "    \n",
    "door = Door()\n",
    "bool_door = BooleanDoor()\n",
    "room = Room(door)\n",
    "bool_room = Room(bool_door)\n",
    "\n",
    "room.open()\n",
    "room.is_open()\n",
    "room.close()\n",
    "room.is_open()\n",
    "bool_room.open()\n",
    "bool_room.is_open()\n",
    "bool_room.close()\n",
    "bool_room.is_open()\n",
    "    "
   ]
  },
  {
   "cell_type": "code",
   "execution_count": null,
   "metadata": {
    "collapsed": true
   },
   "outputs": [],
   "source": []
  }
 ],
 "metadata": {
  "kernelspec": {
   "display_name": "Python 2",
   "language": "python",
   "name": "python2"
  },
  "language_info": {
   "codemirror_mode": {
    "name": "ipython",
    "version": 2
   },
   "file_extension": ".py",
   "mimetype": "text/x-python",
   "name": "python",
   "nbconvert_exporter": "python",
   "pygments_lexer": "ipython2",
   "version": "2.7.14"
  }
 },
 "nbformat": 4,
 "nbformat_minor": 2
}
