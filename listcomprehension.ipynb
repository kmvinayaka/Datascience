{
 "cells": [
  {
   "cell_type": "code",
   "execution_count": 1,
   "metadata": {},
   "outputs": [
    {
     "data": {
      "text/plain": [
       "[0, 1, 4, 9, 16, 25, 36, 49, 64, 81]"
      ]
     },
     "execution_count": 1,
     "metadata": {},
     "output_type": "execute_result"
    }
   ],
   "source": [
    "[x**2 for x in range(0,10)]"
   ]
  },
  {
   "cell_type": "code",
   "execution_count": 2,
   "metadata": {},
   "outputs": [
    {
     "data": {
      "text/plain": [
       "[2, 4, 6, 8, 10, 12, 14, 16, 18]"
      ]
     },
     "execution_count": 2,
     "metadata": {},
     "output_type": "execute_result"
    }
   ],
   "source": [
    "[x for x in range(1,20) if x%2==0 ]"
   ]
  },
  {
   "cell_type": "code",
   "execution_count": 3,
   "metadata": {},
   "outputs": [
    {
     "data": {
      "text/plain": [
       "['A', 'E', 'A', 'I']"
      ]
     },
     "execution_count": 3,
     "metadata": {},
     "output_type": "execute_result"
    }
   ],
   "source": [
    "[x for x in 'MATHEMATICS' if x in ['A','E','I','O','U']]"
   ]
  },
  {
   "cell_type": "code",
   "execution_count": 5,
   "metadata": {},
   "outputs": [
    {
     "data": {
      "text/plain": [
       "'[ output_expression() for(set of values to iterate) if(conditional filtering) ]'"
      ]
     },
     "execution_count": 5,
     "metadata": {},
     "output_type": "execute_result"
    }
   ],
   "source": [
    " \"[ output_expression() for(set of values to iterate) if(conditional filtering) ]\""
   ]
  },
  {
   "cell_type": "code",
   "execution_count": 7,
   "metadata": {},
   "outputs": [
    {
     "name": "stdout",
     "output_type": "stream",
     "text": [
      "1 4 9 16 25 36 49 64 81 100\n"
     ]
    }
   ],
   "source": [
    "for i in range(1,101):     #the iterator\n",
    "   if int(i**0.5)==i**0.5: #conditional filtering\n",
    "     print i,               #output-expression"
   ]
  },
  {
   "cell_type": "code",
   "execution_count": 8,
   "metadata": {},
   "outputs": [
    {
     "data": {
      "text/plain": [
       "[1, 4, 9, 16, 25, 36, 49, 64, 81, 100]"
      ]
     },
     "execution_count": 8,
     "metadata": {},
     "output_type": "execute_result"
    }
   ],
   "source": [
    "[i for i in range(1,101) if int(i**0.5)==i**0.5]"
   ]
  },
  {
   "cell_type": "code",
   "execution_count": 9,
   "metadata": {},
   "outputs": [
    {
     "name": "stdout",
     "output_type": "stream",
     "text": [
      "Original Matrix: [[0, 1, 2, 3, 4], [5, 6, 7, 8, 9], [10, 11, 12, 13, 14]]\n",
      "FOR-loop result: [0, 1, 2, 3, 4, 5, 6, 7, 8, 9, 10, 11, 12, 13, 14]\n",
      "LC result      : [0, 1, 2, 3, 4, 5, 6, 7, 8, 9, 10, 11, 12, 13, 14]\n"
     ]
    }
   ],
   "source": [
    "def eg1_for(matrix):\n",
    "    flat = []\n",
    "    for row in matrix:\n",
    "        for x in row:\n",
    "            flat.append(x)\n",
    "    return flat\n",
    "\n",
    "def eg1_lc(matrix):\n",
    "    return [x for row in matrix for x in row ]\n",
    "\n",
    "matrix = [ range(0,5), range(5,10), range(10,15) ]\n",
    "print \"Original Matrix: \" + str(matrix)\n",
    "print \"FOR-loop result: \" + str(eg1_for(matrix))\n",
    "print \"LC result      : \" + str(eg1_lc(matrix))"
   ]
  },
  {
   "cell_type": "code",
   "execution_count": 10,
   "metadata": {},
   "outputs": [
    {
     "name": "stdout",
     "output_type": "stream",
     "text": [
      "FOR-loop result: My nm s Hndstn nd my stt s Krntk!\n",
      "LC result      : My nm s Hndstn nd my stt s Krntk!\n"
     ]
    }
   ],
   "source": [
    "def eg2_for(sentence):\n",
    "    vowels = 'aeiou'\n",
    "    filtered_list = []\n",
    "    for l in sentence:\n",
    "        if l not in vowels:\n",
    "            filtered_list.append(l)\n",
    "    return ''.join(filtered_list)\n",
    "\n",
    "def eg2_lc(sentence):\n",
    "    vowels = 'aeiou'\n",
    "    return ''.join([ l for l in sentence if l not in vowels])\n",
    "\n",
    "sentence = 'My name is Hindustani and my state is Karnataka!'\n",
    "print \"FOR-loop result: \" + eg2_for(sentence)\n",
    "print \"LC result      : \" + eg2_lc(sentence)"
   ]
  },
  {
   "cell_type": "code",
   "execution_count": 11,
   "metadata": {},
   "outputs": [
    {
     "name": "stdout",
     "output_type": "stream",
     "text": [
      "FOR-loop result: {'Nepal': 'Kathmandu', 'papiPakistan': 'Islamabad', 'Bhutan': 'Thimphu', 'badBangladesh': 'Dhaka', 'India': 'New Delhi', 'China': 'Beijing'}\n",
      "LC result      : {'Nepal': 'Kathmandu', 'papiPakistan': 'Islamabad', 'Bhutan': 'Thimphu', 'badBangladesh': 'Dhaka', 'India': 'New Delhi', 'China': 'Beijing'}\n"
     ]
    }
   ],
   "source": [
    "def eg3_for(keys, values):\n",
    "    dic = {}\n",
    "    for i in range(len(keys)):\n",
    "        dic[keys[i]] = values[i]\n",
    "    return dic\n",
    "\n",
    "def eg3_lc(keys, values):\n",
    "    return { keys[i] : values[i] for i in range(len(keys)) }\n",
    "\n",
    "country = ['India', 'papiPakistan', 'Nepal', 'Bhutan', 'China', 'badBangladesh']\n",
    "capital = ['New Delhi', 'Islamabad','Kathmandu', 'Thimphu', 'Beijing', 'Dhaka']\n",
    "print \"FOR-loop result: \" + str(eg3_for(country, capital))\n",
    "print \"LC result      : \" + str(eg3_lc(country, capital))"
   ]
  },
  {
   "cell_type": "code",
   "execution_count": 12,
   "metadata": {},
   "outputs": [
    {
     "name": "stdout",
     "output_type": "stream",
     "text": [
      "The slowest run took 4.73 times longer than the fastest. This could mean that an intermediate result is being cached.\n",
      "100000 loops, best of 3: 3.58 µs per loop\n"
     ]
    }
   ],
   "source": [
    "#Method 1: For-Loop\n",
    "def square_for(arr):\n",
    "    result = []\n",
    "    for i in arr:\n",
    "        result.append(i**2)\n",
    "    return result\n",
    "%timeit square_for(range(1,11))"
   ]
  },
  {
   "cell_type": "code",
   "execution_count": 13,
   "metadata": {},
   "outputs": [
    {
     "name": "stdout",
     "output_type": "stream",
     "text": [
      "100000 loops, best of 3: 4.25 µs per loop\n"
     ]
    }
   ],
   "source": [
    "#Method 2: Map Function\n",
    "def square_map(arr):\n",
    "    return map(lambda x: x**2, arr)\n",
    "%timeit square_map(range(1,11))"
   ]
  },
  {
   "cell_type": "code",
   "execution_count": 14,
   "metadata": {},
   "outputs": [
    {
     "name": "stdout",
     "output_type": "stream",
     "text": [
      "100000 loops, best of 3: 2.44 µs per loop\n"
     ]
    }
   ],
   "source": [
    "#Method 3: List comprehension:\n",
    "def square_lc(arr):\n",
    "    return [i**2 for i in arr]\n",
    "%timeit square_lc(range(1,11))"
   ]
  },
  {
   "cell_type": "code",
   "execution_count": 15,
   "metadata": {},
   "outputs": [
    {
     "name": "stdout",
     "output_type": "stream",
     "text": [
      "100000 loops, best of 3: 3.1 µs per loop\n"
     ]
    }
   ],
   "source": [
    "#Method 1: For-Loop\n",
    "def square_even_for(arr):\n",
    "    result = []\n",
    "    for i in arr:\n",
    "        if i%2 == 0:\n",
    "            result.append(i**2)\n",
    "    return result\n",
    "%timeit square_even_for(range(1,11))"
   ]
  },
  {
   "cell_type": "code",
   "execution_count": 16,
   "metadata": {},
   "outputs": [
    {
     "name": "stdout",
     "output_type": "stream",
     "text": [
      "100000 loops, best of 3: 6.79 µs per loop\n"
     ]
    }
   ],
   "source": [
    "#Method 2: Map Function\n",
    "def square_even_map(arr):\n",
    "    return filter(lambda x: x is not None,map(lambda x: x**2 if x%2==0 else None, arr))\n",
    "%timeit square_even_map(range(1,11))"
   ]
  },
  {
   "cell_type": "code",
   "execution_count": 17,
   "metadata": {},
   "outputs": [
    {
     "name": "stdout",
     "output_type": "stream",
     "text": [
      "100000 loops, best of 3: 2.89 µs per loop\n"
     ]
    }
   ],
   "source": [
    "#Method 3: List comprehension:\n",
    "def square_even_lc(arr):\n",
    "    return [i**2 for i in arr if i%2==0]\n",
    "%timeit square_even_lc(range(1,11))"
   ]
  },
  {
   "cell_type": "code",
   "execution_count": 18,
   "metadata": {},
   "outputs": [
    {
     "name": "stdout",
     "output_type": "stream",
     "text": [
      "The slowest run took 5.10 times longer than the fastest. This could mean that an intermediate result is being cached.\n",
      "100000 loops, best of 3: 1.07 µs per loop\n"
     ]
    }
   ],
   "source": [
    "#Method 1: For-loop:\n",
    "def empty_for(arr):\n",
    "    for i in arr:\n",
    "        pass\n",
    "%timeit empty_for(range(1,11))"
   ]
  },
  {
   "cell_type": "code",
   "execution_count": 19,
   "metadata": {},
   "outputs": [
    {
     "name": "stdout",
     "output_type": "stream",
     "text": [
      "100000 loops, best of 3: 3.4 µs per loop\n"
     ]
    }
   ],
   "source": [
    "#Method 2: Map\n",
    "def empty_map(arr):\n",
    "    map(lambda x: None,arr)\n",
    "%timeit empty_map(range(1,11))"
   ]
  },
  {
   "cell_type": "code",
   "execution_count": 20,
   "metadata": {},
   "outputs": [
    {
     "name": "stdout",
     "output_type": "stream",
     "text": [
      "The slowest run took 4.25 times longer than the fastest. This could mean that an intermediate result is being cached.\n",
      "100000 loops, best of 3: 1.99 µs per loop\n"
     ]
    }
   ],
   "source": [
    "#Method 3: LC\n",
    "def empty_lc(arr):\n",
    "    [None for i in arr]\n",
    "%timeit empty_lc(range(1,11))"
   ]
  },
  {
   "cell_type": "code",
   "execution_count": 21,
   "metadata": {},
   "outputs": [
    {
     "name": "stdout",
     "output_type": "stream",
     "text": [
      "The slowest run took 4.30 times longer than the fastest. This could mean that an intermediate result is being cached.\n",
      "1000000 loops, best of 3: 1.69 µs per loop\n"
     ]
    }
   ],
   "source": [
    "#Method 1: For-loop:\n",
    "def x2_for(arr):\n",
    "    for i in arr:\n",
    "        i*2\n",
    "%timeit x2_for(range(1,11))"
   ]
  },
  {
   "cell_type": "code",
   "execution_count": 22,
   "metadata": {},
   "outputs": [
    {
     "name": "stdout",
     "output_type": "stream",
     "text": [
      "100000 loops, best of 3: 3.75 µs per loop\n"
     ]
    }
   ],
   "source": [
    "#Method 2: Map\n",
    "def x2_map(arr):\n",
    "    map(lambda x: x*2,arr)\n",
    "%timeit x2_map(range(1,11))"
   ]
  },
  {
   "cell_type": "code",
   "execution_count": 23,
   "metadata": {},
   "outputs": [
    {
     "name": "stdout",
     "output_type": "stream",
     "text": [
      "100000 loops, best of 3: 2.36 µs per loop\n"
     ]
    }
   ],
   "source": [
    "#Method 3: LC\n",
    "def x2_lc(arr):\n",
    "    [i*2 for i in arr]\n",
    "%timeit x2_lc(range(1,11))"
   ]
  },
  {
   "cell_type": "code",
   "execution_count": 24,
   "metadata": {},
   "outputs": [
    {
     "name": "stdout",
     "output_type": "stream",
     "text": [
      "100000 loops, best of 3: 3.53 µs per loop\n"
     ]
    }
   ],
   "source": [
    "def store_for(arr):\n",
    "    result=[]\n",
    "    for i in arr:\n",
    "        result.append(i*2)\n",
    "    return result\n",
    "%timeit store_for(range(1,11))"
   ]
  },
  {
   "cell_type": "code",
   "execution_count": 27,
   "metadata": {},
   "outputs": [
    {
     "data": {
      "text/plain": [
       "'\\n LC is fast and elegant in cases where simple expressions are involved. But if complex functions are required, map and LC would perform nearly the same\\n    FOR-loop is bulkier in general, but it is fastest if storing is not required. So should be preferred in cases where we need to simply iterate and perform operations.\\n'"
      ]
     },
     "execution_count": 27,
     "metadata": {},
     "output_type": "execute_result"
    }
   ],
   "source": [
    "\"\"\"\n",
    " LC is fast and elegant in cases where simple expressions are involved. But if complex functions are required, map and LC would perform nearly the same\n",
    "    FOR-loop is bulkier in general, but it is fastest if storing is not required. So should be preferred in cases where we need to simply iterate and perform operations.\n",
    "\"\"\""
   ]
  },
  {
   "cell_type": "code",
   "execution_count": 28,
   "metadata": {},
   "outputs": [
    {
     "data": {
      "text/plain": [
       "'Generator Expressions (GE)'"
      ]
     },
     "execution_count": 28,
     "metadata": {},
     "output_type": "execute_result"
    }
   ],
   "source": [
    "\"\"\"Generator Expressions (GE)\"\"\""
   ]
  },
  {
   "cell_type": "code",
   "execution_count": 31,
   "metadata": {},
   "outputs": [
    {
     "name": "stdout",
     "output_type": "stream",
     "text": [
      "[0, 1, 2, 3, 4, 5, 6, 7, 8, 9]\n"
     ]
    }
   ],
   "source": [
    "def my_first_gen(n):\n",
    "    for i in range(n):\n",
    "        yield i\n",
    "print list(my_first_gen(10))"
   ]
  },
  {
   "cell_type": "code",
   "execution_count": 33,
   "metadata": {},
   "outputs": [
    {
     "name": "stdout",
     "output_type": "stream",
     "text": [
      "function runs for first time\n",
      "execution before yielding value 0\n",
      "execution after yielding value 0\n",
      "execution before yielding value 1\n",
      "execution after yielding value 1\n",
      "function runs for last time\n"
     ]
    },
    {
     "ename": "StopIteration",
     "evalue": "",
     "output_type": "error",
     "traceback": [
      "\u001b[1;31m---------------------------------------------------------------------------\u001b[0m",
      "\u001b[1;31mStopIteration\u001b[0m                             Traceback (most recent call last)",
      "\u001b[1;32m<ipython-input-33-d17a0eed9773>\u001b[0m in \u001b[0;36m<module>\u001b[1;34m()\u001b[0m\n\u001b[0;32m     10\u001b[0m \u001b[0mgen\u001b[0m\u001b[1;33m.\u001b[0m\u001b[0mnext\u001b[0m\u001b[1;33m(\u001b[0m\u001b[1;33m)\u001b[0m\u001b[1;33m\u001b[0m\u001b[0m\n\u001b[0;32m     11\u001b[0m \u001b[0mgen\u001b[0m\u001b[1;33m.\u001b[0m\u001b[0mnext\u001b[0m\u001b[1;33m(\u001b[0m\u001b[1;33m)\u001b[0m\u001b[1;33m\u001b[0m\u001b[0m\n\u001b[1;32m---> 12\u001b[1;33m \u001b[0mgen\u001b[0m\u001b[1;33m.\u001b[0m\u001b[0mnext\u001b[0m\u001b[1;33m(\u001b[0m\u001b[1;33m)\u001b[0m\u001b[1;33m\u001b[0m\u001b[0m\n\u001b[0m\u001b[0;32m     13\u001b[0m \u001b[0mgen\u001b[0m\u001b[1;33m.\u001b[0m\u001b[0mnext\u001b[0m\u001b[1;33m(\u001b[0m\u001b[1;33m)\u001b[0m\u001b[1;33m\u001b[0m\u001b[0m\n",
      "\u001b[1;31mStopIteration\u001b[0m: "
     ]
    }
   ],
   "source": [
    "def flow_of_info_gen(N):\n",
    "    print 'function runs for first time'\n",
    "    for i in range(N):\n",
    "        print 'execution before yielding value %d' % i\n",
    "        yield i\n",
    "        print 'execution after yielding value %d' % i\n",
    "    print 'function runs for last time'\n",
    "    \n",
    "gen = flow_of_info_gen(2)\n",
    "gen.next()\n",
    "gen.next()\n",
    "gen.next()\n",
    "gen.next()"
   ]
  },
  {
   "cell_type": "code",
   "execution_count": 34,
   "metadata": {},
   "outputs": [
    {
     "data": {
      "text/plain": [
       "[0, 1, 2, 3, 4, 5, 6, 7, 8, 9]"
      ]
     },
     "execution_count": 34,
     "metadata": {},
     "output_type": "execute_result"
    }
   ],
   "source": [
    "#LC implementation\n",
    "[x for x in range(10)]"
   ]
  },
  {
   "cell_type": "code",
   "execution_count": 35,
   "metadata": {},
   "outputs": [
    {
     "data": {
      "text/plain": [
       "<generator object <genexpr> at 0x00000000074E07E0>"
      ]
     },
     "execution_count": 35,
     "metadata": {},
     "output_type": "execute_result"
    }
   ],
   "source": [
    "#GE implementation\n",
    "(x for x in range(10))"
   ]
  },
  {
   "cell_type": "code",
   "execution_count": 36,
   "metadata": {},
   "outputs": [
    {
     "data": {
      "text/plain": [
       "45"
      ]
     },
     "execution_count": 36,
     "metadata": {},
     "output_type": "execute_result"
    }
   ],
   "source": [
    "sum(x for x in range(10))"
   ]
  },
  {
   "cell_type": "code",
   "execution_count": 40,
   "metadata": {},
   "outputs": [
    {
     "name": "stdout",
     "output_type": "stream",
     "text": [
      "LC1000\n",
      "10000 loops, best of 3: 85.7 µs per loop\n",
      "GE1000\n",
      "10000 loops, best of 3: 87.7 µs per loop\n",
      "LC1000000\n",
      "1 loop, best of 3: 206 ms per loop\n",
      "GE1000000\n",
      "1 loop, best of 3: 181 ms per loop\n"
     ]
    }
   ],
   "source": [
    "def sum_list(N):\n",
    "    return sum([x for x in range(N)])\n",
    "def sum_gen(N):\n",
    "    return sum((x for x in range(N)))\n",
    "\n",
    "N = 1000\n",
    "print \"LC1000\"\n",
    "%timeit sum_list(N)\n",
    "print \"GE1000\"\n",
    "%timeit sum_gen(N)\n",
    "N = 1000000\n",
    "print \"LC1000000\"\n",
    "%timeit sum_list(N)\n",
    "print \"GE1000000\"\n",
    "%timeit sum_gen(N)"
   ]
  },
  {
   "cell_type": "code",
   "execution_count": 41,
   "metadata": {},
   "outputs": [
    {
     "name": "stdout",
     "output_type": "stream",
     "text": [
      "['The', 'quick', 'brown', 'fox', 'jumps', 'over', 'the', 'lazy', 'dog']\n",
      "['THE', 'the', 3]\n",
      "['QUICK', 'quick', 5]\n",
      "['BROWN', 'brown', 5]\n",
      "['FOX', 'fox', 3]\n",
      "['JUMPS', 'jumps', 5]\n",
      "['OVER', 'over', 4]\n",
      "['THE', 'the', 3]\n",
      "['LAZY', 'lazy', 4]\n",
      "['DOG', 'dog', 3]\n"
     ]
    }
   ],
   "source": [
    "words = 'The quick brown fox jumps over the lazy dog'.split()\n",
    "print words\n",
    "stuff = [[w.upper(), w.lower(), len(w)] for w in words]\n",
    "for i in stuff:\n",
    "    print i"
   ]
  },
  {
   "cell_type": "code",
   "execution_count": 44,
   "metadata": {},
   "outputs": [
    {
     "name": "stdout",
     "output_type": "stream",
     "text": [
      "[4, 6, 8, 10, 12, 14, 16, 18, 20, 22, 24, 26, 28, 30, 32, 34, 36, 38, 40, 42, 44, 46, 48, 6, 9, 12, 15, 18, 21, 24, 27, 30, 33, 36, 39, 42, 45, 48, 8, 12, 16, 20, 24, 28, 32, 36, 40, 44, 48, 10, 15, 20, 25, 30, 35, 40, 45, 12, 18, 24, 30, 36, 42, 48, 14, 21, 28, 35, 42, 49]\n",
      "prim [2, 3, 5, 7, 11, 13, 17, 19, 23, 29, 31, 37, 41, 43, 47]\n"
     ]
    }
   ],
   "source": [
    "noprimes = [j for i in range(2, 8) for j in range(i*2, 50, i)]\n",
    "print noprimes\n",
    "primes = [x for x in range(2, 50) if x not in noprimes]\n",
    "print \"prim\",primes"
   ]
  },
  {
   "cell_type": "code",
   "execution_count": null,
   "metadata": {
    "collapsed": true
   },
   "outputs": [],
   "source": []
  }
 ],
 "metadata": {
  "kernelspec": {
   "display_name": "Python 2",
   "language": "python",
   "name": "python2"
  },
  "language_info": {
   "codemirror_mode": {
    "name": "ipython",
    "version": 2
   },
   "file_extension": ".py",
   "mimetype": "text/x-python",
   "name": "python",
   "nbconvert_exporter": "python",
   "pygments_lexer": "ipython2",
   "version": "2.7.14"
  }
 },
 "nbformat": 4,
 "nbformat_minor": 2
}
