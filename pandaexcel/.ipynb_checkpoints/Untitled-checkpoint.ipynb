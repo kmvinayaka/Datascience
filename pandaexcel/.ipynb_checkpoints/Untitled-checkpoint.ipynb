{
 "cells": [
  {
   "cell_type": "code",
   "execution_count": null,
   "metadata": {},
   "outputs": [],
   "source": [
    "import pandas as pd\n",
    "import numpy as np\n",
    "df = pd.read_excel(\"excel-comp-data.xlsx\")\n",
    "df.head()"
   ]
  },
  {
   "cell_type": "code",
   "execution_count": null,
   "metadata": {},
   "outputs": [],
   "source": [
    "df[\"total\"] = df[\"Jan\"] + df[\"Feb\"] + df[\"Mar\"]\n",
    "df.head()"
   ]
  },
  {
   "cell_type": "code",
   "execution_count": null,
   "metadata": {},
   "outputs": [],
   "source": [
    "Performing column level analysis is easy in pandas. Here are a couple of examples."
   ]
  },
  {
   "cell_type": "code",
   "execution_count": null,
   "metadata": {},
   "outputs": [],
   "source": [
    "df[\"Jan\"].sum(), df[\"Jan\"].mean(),df[\"Jan\"].min(),df[\"Jan\"].max()"
   ]
  },
  {
   "cell_type": "code",
   "execution_count": null,
   "metadata": {
    "collapsed": true
   },
   "outputs": [],
   "source": []
  },
  {
   "cell_type": "code",
   "execution_count": null,
   "metadata": {},
   "outputs": [],
   "source": [
    "sum_row=df[[\"Jan\",\"Feb\",\"Mar\",\"total\"]].sum()\n",
    "sum_row"
   ]
  },
  {
   "cell_type": "code",
   "execution_count": null,
   "metadata": {},
   "outputs": [],
   "source": [
    "df_sum=pd.DataFrame(data=sum_row).T\n",
    "df_sum"
   ]
  },
  {
   "cell_type": "code",
   "execution_count": null,
   "metadata": {},
   "outputs": [],
   "source": [
    "df_sum=df_sum.reindex(columns=df.columns)\n",
    "df_sum"
   ]
  },
  {
   "cell_type": "code",
   "execution_count": null,
   "metadata": {},
   "outputs": [],
   "source": [
    "df_final=df.append(df_sum,ignore_index=True)\n",
    "df_final.head()"
   ]
  },
  {
   "cell_type": "code",
   "execution_count": 2,
   "metadata": {},
   "outputs": [
    {
     "name": "stderr",
     "output_type": "stream",
     "text": [
      "C:\\ProgramData\\Anaconda2\\lib\\site-packages\\fuzzywuzzy\\fuzz.py:35: UserWarning: Using slow pure-python SequenceMatcher. Install python-Levenshtein to remove this warning\n",
      "  warnings.warn('Using slow pure-python SequenceMatcher. Install python-Levenshtein to remove this warning')\n"
     ]
    }
   ],
   "source": [
    "from fuzzywuzzy import fuzz\n",
    "from fuzzywuzzy import process\n",
    "state_to_code = {\"VERMONT\": \"VT\", \"GEORGIA\": \"GA\", \"IOWA\": \"IA\", \"Armed Forces Pacific\": \"AP\", \"GUAM\": \"GU\",\n",
    "                 \"KANSAS\": \"KS\", \"FLORIDA\": \"FL\", \"AMERICAN SAMOA\": \"AS\", \"NORTH CAROLINA\": \"NC\", \"HAWAII\": \"HI\",\n",
    "                 \"NEW YORK\": \"NY\", \"CALIFORNIA\": \"CA\", \"ALABAMA\": \"AL\", \"IDAHO\": \"ID\", \"FEDERATED STATES OF MICRONESIA\": \"FM\",\n",
    "                 \"Armed Forces Americas\": \"AA\", \"DELAWARE\": \"DE\", \"ALASKA\": \"AK\", \"ILLINOIS\": \"IL\",\n",
    "                 \"Armed Forces Africa\": \"AE\", \"SOUTH DAKOTA\": \"SD\", \"CONNECTICUT\": \"CT\", \"MONTANA\": \"MT\", \"MASSACHUSETTS\": \"MA\",\n",
    "                 \"PUERTO RICO\": \"PR\", \"Armed Forces Canada\": \"AE\", \"NEW HAMPSHIRE\": \"NH\", \"MARYLAND\": \"MD\", \"NEW MEXICO\": \"NM\",\n",
    "                 \"MISSISSIPPI\": \"MS\", \"TENNESSEE\": \"TN\", \"PALAU\": \"PW\", \"COLORADO\": \"CO\", \"Armed Forces Middle East\": \"AE\",\n",
    "                 \"NEW JERSEY\": \"NJ\", \"UTAH\": \"UT\", \"MICHIGAN\": \"MI\", \"WEST VIRGINIA\": \"WV\", \"WASHINGTON\": \"WA\",\n",
    "                 \"MINNESOTA\": \"MN\", \"OREGON\": \"OR\", \"VIRGINIA\": \"VA\", \"VIRGIN ISLANDS\": \"VI\", \"MARSHALL ISLANDS\": \"MH\",\n",
    "                 \"WYOMING\": \"WY\", \"OHIO\": \"OH\", \"SOUTH CAROLINA\": \"SC\", \"INDIANA\": \"IN\", \"NEVADA\": \"NV\", \"LOUISIANA\": \"LA\",\n",
    "                 \"NORTHERN MARIANA ISLANDS\": \"MP\", \"NEBRASKA\": \"NE\", \"ARIZONA\": \"AZ\", \"WISCONSIN\": \"WI\", \"NORTH DAKOTA\": \"ND\",\n",
    "                 \"Armed Forces Europe\": \"AE\", \"PENNSYLVANIA\": \"PA\", \"OKLAHOMA\": \"OK\", \"KENTUCKY\": \"KY\", \"RHODE ISLAND\": \"RI\",\n",
    "                 \"DISTRICT OF COLUMBIA\": \"DC\", \"ARKANSAS\": \"AR\", \"MISSOURI\": \"MO\", \"TEXAS\": \"TX\", \"MAINE\": \"ME\"}"
   ]
  },
  {
   "cell_type": "code",
   "execution_count": 3,
   "metadata": {},
   "outputs": [
    {
     "data": {
      "text/plain": [
       "('MINNESOTA', 95)"
      ]
     },
     "execution_count": 3,
     "metadata": {},
     "output_type": "execute_result"
    }
   ],
   "source": [
    "process.extractOne(\"Minnesotta\",choices=state_to_code.keys())\n"
   ]
  },
  {
   "cell_type": "code",
   "execution_count": 4,
   "metadata": {},
   "outputs": [
    {
     "data": {
      "text/plain": [
       "('ALABAMA', 78)"
      ]
     },
     "execution_count": 4,
     "metadata": {},
     "output_type": "execute_result"
    }
   ],
   "source": [
    "process.extractOne(\"AlaBAMMazzz\",choices=state_to_code.keys(),score_cutoff=50)"
   ]
  },
  {
   "cell_type": "code",
   "execution_count": null,
   "metadata": {
    "collapsed": true
   },
   "outputs": [],
   "source": []
  },
  {
   "cell_type": "code",
   "execution_count": null,
   "metadata": {
    "collapsed": true
   },
   "outputs": [],
   "source": []
  }
 ],
 "metadata": {
  "kernelspec": {
   "display_name": "Python 2",
   "language": "python",
   "name": "python2"
  },
  "language_info": {
   "codemirror_mode": {
    "name": "ipython",
    "version": 2
   },
   "file_extension": ".py",
   "mimetype": "text/x-python",
   "name": "python",
   "nbconvert_exporter": "python",
   "pygments_lexer": "ipython2",
   "version": "2.7.14"
  }
 },
 "nbformat": 4,
 "nbformat_minor": 2
}
