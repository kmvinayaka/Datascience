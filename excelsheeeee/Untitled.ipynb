{
 "cells": [
  {
   "cell_type": "code",
   "execution_count": 1,
   "metadata": {},
   "outputs": [
    {
     "ename": "SyntaxError",
     "evalue": "invalid syntax (<ipython-input-1-3b17788278b7>, line 1)",
     "output_type": "error",
     "traceback": [
      "\u001b[1;36m  File \u001b[1;32m\"<ipython-input-1-3b17788278b7>\"\u001b[1;36m, line \u001b[1;32m1\u001b[0m\n\u001b[1;33m    Contents – Data Exploration\u001b[0m\n\u001b[1;37m             ^\u001b[0m\n\u001b[1;31mSyntaxError\u001b[0m\u001b[1;31m:\u001b[0m invalid syntax\n"
     ]
    }
   ],
   "source": [
    "Contents – Data Exploration\n",
    "\n",
    "Here are the operation I’ll cover in this article (Refer to this article for similar operations in SAS):\n",
    "\n",
    "    How to load data file(s)?\n",
    "    How to convert a variable to different data type?\n",
    "    How to transpose a table?\n",
    "    How to sort Data?\n",
    "    How to create plots (Histogram, Scatter, Box Plot)?\n",
    "    How to generate frequency tables?\n",
    "    How to do sampling of Data set?\n",
    "\n",
    "    How to remove duplicate values of a variable?\n",
    "    How to group variables to calculate count, average, sum?\n",
    "    How to recognize and treat missing values and outliers?\n",
    "    How to merge / join data set effectively?"
   ]
  },
  {
   "cell_type": "code",
   "execution_count": 4,
   "metadata": {},
   "outputs": [
    {
     "name": "stdout",
     "output_type": "stream",
     "text": [
      "           datetime  season  holiday  workingday  weather  temp   atemp  \\\n",
      "0  01-01-2011 00:00     1.0      0.0         0.0      1.0  9.84  14.395   \n",
      "1  01-01-2011 01:00     1.0      0.0         0.0      1.0  9.02  13.635   \n",
      "2  01-01-2011 02:00     1.0      0.0         0.0      1.0  9.02  13.635   \n",
      "3  01-01-2011 03:00     1.0      0.0         0.0      1.0  9.84  14.395   \n",
      "4  01-01-2011 04:00     1.0      0.0         0.0      1.0  9.84  14.395   \n",
      "\n",
      "   humidity  windspeed  casual  registered  count  \n",
      "0      81.0        0.0     3.0        13.0   16.0  \n",
      "1      80.0        0.0     8.0        32.0   40.0  \n",
      "2      80.0        0.0     5.0        27.0   32.0  \n",
      "3      75.0        0.0     3.0        10.0   13.0  \n",
      "4      75.0        0.0     0.0         1.0    1.0  \n"
     ]
    }
   ],
   "source": [
    "import pandas as pd\n",
    "#Import Library Pandas\n",
    "df = pd.read_csv(\"C:/Users/nitin k/datascienceeg/excelsheeeee/train.csv\")  #I am working in Windows environment\n",
    "#Reading the dataset in a dataframe using Pandas\n",
    "print df.head()  #Print first three observations"
   ]
  },
  {
   "cell_type": "code",
   "execution_count": null,
   "metadata": {
    "collapsed": true
   },
   "outputs": [],
   "source": []
  },
  {
   "cell_type": "code",
   "execution_count": null,
   "metadata": {
    "collapsed": true
   },
   "outputs": [],
   "source": []
  }
 ],
 "metadata": {
  "kernelspec": {
   "display_name": "Python 2",
   "language": "python",
   "name": "python2"
  },
  "language_info": {
   "codemirror_mode": {
    "name": "ipython",
    "version": 2
   },
   "file_extension": ".py",
   "mimetype": "text/x-python",
   "name": "python",
   "nbconvert_exporter": "python",
   "pygments_lexer": "ipython2",
   "version": "2.7.14"
  }
 },
 "nbformat": 4,
 "nbformat_minor": 2
}
