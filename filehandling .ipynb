{
 "cells": [
  {
   "cell_type": "code",
   "execution_count": 2,
   "metadata": {
    "collapsed": true
   },
   "outputs": [],
   "source": [
    "f= open(\"kmv.txt\",\"w+\")\n",
    "for i in range(1000):\n",
    "     f.write(\"This is line %d\\r\\n\" % (i+1))\n",
    "f.close() "
   ]
  },
  {
   "cell_type": "code",
   "execution_count": 4,
   "metadata": {
    "collapsed": true
   },
   "outputs": [],
   "source": [
    "f=open(\"gen.txt\", \"a+\")\n",
    "for i in range(2):\n",
    "     f.write(\"Appended line %d\\r\\n\" % (i+1))\n",
    "f.close()"
   ]
  },
  {
   "cell_type": "code",
   "execution_count": 6,
   "metadata": {},
   "outputs": [
    {
     "name": "stdout",
     "output_type": "stream",
     "text": [
      "Appended line 1\r\n",
      "Appended line 2\r\n",
      "\n"
     ]
    }
   ],
   "source": [
    "f=open(\"gen.txt\", \"r\")\n",
    "if f.mode == 'r':\n",
    "    contents =f.read()\n",
    "print contents"
   ]
  },
  {
   "cell_type": "code",
   "execution_count": 8,
   "metadata": {
    "collapsed": true
   },
   "outputs": [],
   "source": [
    "def main():\n",
    "    f= open(\"gen.txt\",\"w+\")\n",
    "     #f=open(\"gen.txt\",\"a+\")\n",
    "    for i in range(10):\n",
    "         f.write(\"This is line %d\\r\\n\" % (i+1))\n",
    "    f.close()   \n",
    "   #Open the file back and read the contents\n",
    "   #f=open(\"gen.txt\", \"r\")\n",
    "   #   if f.mode == 'r': \n",
    "   #     contents =f.read()\n",
    "   #     print contents\n",
    "   #or, readlines reads the individual line into a list\n",
    "   #fl =f.readlines()\n",
    "   #for x in fl:\n",
    "   #print x\n",
    "if __name__== \"__main__\":\n",
    "  main()"
   ]
  },
  {
   "cell_type": "code",
   "execution_count": 9,
   "metadata": {},
   "outputs": [
    {
     "name": "stdout",
     "output_type": "stream",
     "text": [
      "Name of the file:  foo.txt\n",
      "Closed or not :  False\n",
      "Opening mode :  wb\n",
      "Softspace flag :  0\n"
     ]
    }
   ],
   "source": [
    "fo = open(\"foo.txt\", \"wb\")\n",
    "print \"Name of the file: \", fo.name\n",
    "print \"Closed or not : \", fo.closed\n",
    "print \"Opening mode : \", fo.mode\n",
    "print \"Softspace flag : \", fo.softspace"
   ]
  },
  {
   "cell_type": "code",
   "execution_count": 10,
   "metadata": {},
   "outputs": [
    {
     "name": "stdout",
     "output_type": "stream",
     "text": [
      "Name of the file:  foo.txt\n"
     ]
    }
   ],
   "source": [
    "# Open a file\n",
    "fo = open(\"foo.txt\", \"wb\")\n",
    "print \"Name of the file: \", fo.name\n",
    "\n",
    "# Close opend file\n",
    "fo.close()"
   ]
  },
  {
   "cell_type": "code",
   "execution_count": 4,
   "metadata": {
    "collapsed": true
   },
   "outputs": [],
   "source": [
    "fo = open(\"foo.txt\", \"wb\")\n",
    "fo.write( \"Python is a great language.\\nYeah its great!!\\n\");\n",
    "\n",
    "# Close opend file\n",
    "fo.close()"
   ]
  },
  {
   "cell_type": "code",
   "execution_count": 5,
   "metadata": {},
   "outputs": [
    {
     "name": "stdout",
     "output_type": "stream",
     "text": [
      "Read String is :  Python is \n"
     ]
    }
   ],
   "source": [
    "fo = open(\"foo.txt\", \"r+\")\n",
    "str = fo.read(10);\n",
    "print \"Read String is : \", str\n",
    "# Close opend file\n",
    "fo.close()"
   ]
  },
  {
   "cell_type": "code",
   "execution_count": 6,
   "metadata": {},
   "outputs": [
    {
     "name": "stdout",
     "output_type": "stream",
     "text": [
      "Read String is :  Python is a great language.\n",
      "Yeah its great!!\n",
      "\n",
      "Current file position :  45\n",
      "Again read String is :  Python is \n"
     ]
    }
   ],
   "source": [
    "fo = open(\"foo.txt\", \"r+\")\n",
    "str = fo.read(100);\n",
    "print \"Read String is : \", str\n",
    "\n",
    "# Check current position\n",
    "position = fo.tell();\n",
    "print \"Current file position : \", position\n",
    "\n",
    "# Reposition pointer at the beginning once again\n",
    "position = fo.seek(0, 0);\n",
    "str = fo.read(10);\n",
    "print \"Again read String is : \", str\n",
    "# Close opend file\n",
    "fo.close()"
   ]
  },
  {
   "cell_type": "code",
   "execution_count": 15,
   "metadata": {},
   "outputs": [
    {
     "data": {
      "text/plain": [
       "' Read Only (\\xe2\\x80\\x98r\\xe2\\x80\\x99) : Open text file for reading. The handle is positioned at the beginning of the file. If the file does not exists, raises I/O error. This is also the default mode in which file is opened.\\n    Read and Write (\\xe2\\x80\\x98r+\\xe2\\x80\\x99) : Open the file for reading and writing. The handle is positioned at the beginning of the file. Raises I/O error if the file does not exists.\\n    Write Only (\\xe2\\x80\\x98w\\xe2\\x80\\x99) : Open the file for writing. For existing file, the data is truncated and over-written. The handle is positioned at the beginning of the file. Creates the file if the file does not exists.\\n    Write and Read (\\xe2\\x80\\x98w+\\xe2\\x80\\x99) : Open the file for reading and writing. For existing file, data is truncated and over-written. The handle is positioned at the beginning of the file.\\n    Append Only (\\xe2\\x80\\x98a\\xe2\\x80\\x99) : Open the file for writing. The file is created if it does not exist. The handle is positioned at the end of the file. The data being written will be inserted at the end, after the existing data.\\n    Append and Read (\\xe2\\x80\\x98a+\\xe2\\x80\\x99) : Open the file for reading and writing. The file is created if it does not exist. The handle is positioned at the end of the file. The data being written will be inserted at the end, after the existing data.\\n'"
      ]
     },
     "execution_count": 15,
     "metadata": {},
     "output_type": "execute_result"
    }
   ],
   "source": [
    "\n",
    "\"\"\" Read Only (‘r’) : Open text file for reading. The handle is positioned at the beginning of the file. If the file does not exists, raises I/O error. This is also the default mode in which file is opened.\n",
    "    Read and Write (‘r+’) : Open the file for reading and writing. The handle is positioned at the beginning of the file. Raises I/O error if the file does not exists.\n",
    "    Write Only (‘w’) : Open the file for writing. For existing file, the data is truncated and over-written. The handle is positioned at the beginning of the file. Creates the file if the file does not exists.\n",
    "    Write and Read (‘w+’) : Open the file for reading and writing. For existing file, data is truncated and over-written. The handle is positioned at the beginning of the file.\n",
    "    Append Only (‘a’) : Open the file for writing. The file is created if it does not exist. The handle is positioned at the end of the file. The data being written will be inserted at the end, after the existing data.\n",
    "    Append and Read (‘a+’) : Open the file for reading and writing. The file is created if it does not exist. The handle is positioned at the end of the file. The data being written will be inserted at the end, after the existing data.\n",
    "\"\"\""
   ]
  },
  {
   "cell_type": "code",
   "execution_count": 16,
   "metadata": {},
   "outputs": [
    {
     "name": "stdout",
     "output_type": "stream",
     "text": [
      "Output of Read function is \n",
      "Hello \n",
      "This is Delhi \n",
      "This is Paris \n",
      "This is London \n",
      "\n",
      "\n",
      "Output of Readline function is \n",
      "Hello \n",
      "\n",
      "\n",
      "Output of Read(9) function is \n",
      "Hello \n",
      "Th\n",
      "\n",
      "Output of Readline(9) function is \n",
      "Hello \n",
      "\n",
      "Output of Readlines function is \n",
      "['Hello \\n', 'This is Delhi \\n', 'This is Paris \\n', 'This is London \\n']\n",
      "\n"
     ]
    }
   ],
   "source": [
    "# Program to show various ways to read and\n",
    "# write data in a file.\n",
    "file1 = open(\"myfile.txt\",\"w\")\n",
    "L = [\"This is Delhi \\n\",\"This is Paris \\n\",\"This is London \\n\"] \n",
    " \n",
    "# \\n is placed to indicate EOL (End of Line)\n",
    "file1.write(\"Hello \\n\")\n",
    "file1.writelines(L)\n",
    "file1.close() #to change file access modes\n",
    " \n",
    "file1 = open(\"myfile.txt\",\"r+\") \n",
    " \n",
    "print \"Output of Read function is \"\n",
    "print file1.read()\n",
    "print\n",
    " \n",
    "# seek(n) takes the file handle to the nth\n",
    "# bite from the beginning.\n",
    "file1.seek(0) \n",
    " \n",
    "print \"Output of Readline function is \"\n",
    "print file1.readline()\n",
    "print\n",
    " \n",
    "file1.seek(0)\n",
    " \n",
    "# To show difference between read and readline\n",
    "print \"Output of Read(9) function is \"\n",
    "print file1.read(9)\n",
    "print\n",
    " \n",
    "file1.seek(0)\n",
    " \n",
    "print \"Output of Readline(9) function is \"\n",
    "print file1.readline(9)\n",
    " \n",
    "file1.seek(0)\n",
    "# readlines function\n",
    "print \"Output of Readlines function is \"\n",
    "print file1.readlines()\n",
    "print\n",
    "file1.close()"
   ]
  },
  {
   "cell_type": "code",
   "execution_count": 17,
   "metadata": {},
   "outputs": [
    {
     "name": "stdout",
     "output_type": "stream",
     "text": [
      "Output of Readlines after appending\n",
      "['Today \\n']\n",
      "\n",
      "Output of Readlines after writing\n",
      "['Tomorrow \\n']\n",
      "\n"
     ]
    }
   ],
   "source": [
    "# Python program to illustrate\n",
    "# Append vs write mode\n",
    "file1 = open(\"myfile.txt\",\"w\")\n",
    "L = [\"This is Delhi \\n\",\"This is Paris \\n\",\"This is London \\n\"] \n",
    "file1.close()\n",
    " \n",
    "# Append-adds at last\n",
    "file1 = open(\"myfile.txt\",\"a\")#append mode\n",
    "file1.write(\"Today \\n\")\n",
    "file1.close()\n",
    " \n",
    "file1 = open(\"myfile.txt\",\"r\")\n",
    "print \"Output of Readlines after appending\"\n",
    "print file1.readlines()\n",
    "print\n",
    "file1.close()\n",
    " \n",
    "# Write-Overwrites\n",
    "file1 = open(\"myfile.txt\",\"w\")#write mode\n",
    "file1.write(\"Tomorrow \\n\")\n",
    "file1.close()\n",
    " \n",
    "file1 = open(\"myfile.txt\",\"r\")\n",
    "print \"Output of Readlines after writing\"\n",
    "print file1.readlines()\n",
    "print\n",
    "file1.close()"
   ]
  },
  {
   "cell_type": "code",
   "execution_count": 6,
   "metadata": {},
   "outputs": [
    {
     "data": {
      "text/plain": [
       "'my first file\\nThis file\\n\\ncontains three lines'"
      ]
     },
     "execution_count": 6,
     "metadata": {},
     "output_type": "execute_result"
    }
   ],
   "source": [
    "with open(\"test.txt\",'w') as f:\n",
    "   f.write(\"my first file\\n\")\n",
    "   f.write(\"This file\\n\\n\")\n",
    "   f.write(\"contains three lines\\n\")\n",
    "\n",
    "f = open(\"test.txt\",'r')\n",
    "f.read(45)    # read the first 4 data\n"
   ]
  },
  {
   "cell_type": "code",
   "execution_count": null,
   "metadata": {
    "collapsed": true
   },
   "outputs": [],
   "source": []
  }
 ],
 "metadata": {
  "kernelspec": {
   "display_name": "Python 2",
   "language": "python",
   "name": "python2"
  },
  "language_info": {
   "codemirror_mode": {
    "name": "ipython",
    "version": 2
   },
   "file_extension": ".py",
   "mimetype": "text/x-python",
   "name": "python",
   "nbconvert_exporter": "python",
   "pygments_lexer": "ipython2",
   "version": "2.7.14"
  }
 },
 "nbformat": 4,
 "nbformat_minor": 2
}
